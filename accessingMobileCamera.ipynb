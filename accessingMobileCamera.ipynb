{
 "cells": [
  {
   "cell_type": "code",
   "execution_count": null,
   "metadata": {},
   "outputs": [],
   "source": [
    "import numpy as np\n",
    "import cv2\n",
    "import imutils\n",
    "import urllib.request\n",
    "\n",
    "url=\"http://192.168.0.100:8080/shot.jpg\"\n",
    "while True:\n",
    "    imgpath=urllib.request.urlopen(url)\n",
    "    imgnp=np.array(bytearray(imgpath.read()),dtype=np.uint8)\n",
    "    img=cv2.imdecode(imgnp, -1)\n",
    "    img=imutils.resize(img,width=450)\n",
    "    cv2.imshow(\"camerafeed\",img)\n",
    "    if ord('q') == cv2.waitKey(1) & 0xFF:\n",
    "        exit(0)"
   ]
  },
  {
   "cell_type": "code",
   "execution_count": null,
   "metadata": {},
   "outputs": [],
   "source": []
  }
 ],
 "metadata": {
  "kernelspec": {
   "display_name": "Python 3",
   "language": "python",
   "name": "python3"
  },
  "language_info": {
   "codemirror_mode": {
    "name": "ipython",
    "version": 3
   },
   "file_extension": ".py",
   "mimetype": "text/x-python",
   "name": "python",
   "nbconvert_exporter": "python",
   "pygments_lexer": "ipython3",
   "version": "3.8.5"
  }
 },
 "nbformat": 4,
 "nbformat_minor": 4
}
